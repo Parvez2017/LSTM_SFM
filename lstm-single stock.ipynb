{
 "cells": [
  {
   "cell_type": "code",
   "execution_count": 1,
   "metadata": {},
   "outputs": [
    {
     "name": "stderr",
     "output_type": "stream",
     "text": [
      "Using Theano backend.\n"
     ]
    }
   ],
   "source": [
    "import numpy as np\n",
    "import matplotlib.pyplot as plt\n",
    "import pandas as pd\n",
    "import os\n",
    "import numpy as np\n",
    "import matplotlib.pyplot as plt\n",
    "from pandas import read_csv\n",
    "import math\n",
    "from keras.models import Sequential\n",
    "from keras.layers import Dense\n",
    "from keras.layers import LSTM\n",
    "from keras.layers.core import Dense, Dropout, Activation\n",
    "from sklearn.preprocessing import MinMaxScaler\n",
    "from sklearn.metrics import mean_squared_error\n",
    "%matplotlib inline"
   ]
  },
  {
   "cell_type": "code",
   "execution_count": 2,
   "metadata": {
    "scrolled": true
   },
   "outputs": [
    {
     "name": "stdout",
     "output_type": "stream",
     "text": [
      "['AAPL.csv', 'AMZN.csv', 'BA.csv', 'BAC.csv', 'BHP.csv', 'BRK-B.csv', 'CHL.csv', 'CMCSA.csv', 'CVX.csv', 'D.csv', 'DCM.csv', 'DIS.csv', 'DOW.csv', 'DUK.csv', 'EXC.csv', 'GE.csv', 'GOOGL.csv', 'HD.csv', 'INTC.csv', 'JNJ.csv', 'JPM.csv', 'KO.csv', 'MA.csv', 'MMM.csv', 'MO.csv', 'MRK.csv', 'MSFT.csv', 'NGG.csv', 'NTT.csv', 'NVS.csv', 'ORCL.csv', 'PEP.csv', 'PFE.csv', 'PG.csv', 'PTR.csv', 'RDS-B.csv', 'RIO.csv', 'SO.csv', 'SPY.csv', 'SYT.csv', 'T.csv', 'TM.csv', 'TOT.csv', 'UNH.csv', 'UPS.csv', 'VALE.csv', 'VZ.csv', 'WFC.csv', 'WMT.csv', 'XOM.csv']\n",
      "0\n",
      "AAPL.csv\n",
      "1\n",
      "AMZN.csv\n",
      "2\n",
      "BA.csv\n",
      "3\n",
      "BAC.csv\n",
      "4\n",
      "BHP.csv\n",
      "5\n",
      "BRK-B.csv\n",
      "6\n",
      "CHL.csv\n",
      "7\n",
      "CMCSA.csv\n",
      "8\n",
      "CVX.csv\n",
      "9\n",
      "D.csv\n",
      "10\n",
      "DCM.csv\n",
      "11\n",
      "DIS.csv\n",
      "12\n",
      "DOW.csv\n",
      "13\n",
      "DUK.csv\n",
      "14\n",
      "EXC.csv\n",
      "15\n",
      "GE.csv\n",
      "16\n",
      "GOOGL.csv\n",
      "17\n",
      "HD.csv\n",
      "18\n",
      "INTC.csv\n",
      "19\n",
      "JNJ.csv\n",
      "20\n",
      "JPM.csv\n",
      "21\n",
      "KO.csv\n",
      "22\n",
      "MA.csv\n",
      "23\n",
      "MMM.csv\n",
      "24\n",
      "MO.csv\n",
      "25\n",
      "MRK.csv\n",
      "26\n",
      "MSFT.csv\n",
      "27\n",
      "NGG.csv\n",
      "28\n",
      "NTT.csv\n",
      "29\n",
      "NVS.csv\n",
      "30\n",
      "ORCL.csv\n",
      "31\n",
      "PEP.csv\n",
      "32\n",
      "PFE.csv\n",
      "33\n",
      "PG.csv\n",
      "34\n",
      "PTR.csv\n",
      "35\n",
      "RDS-B.csv\n",
      "36\n",
      "RIO.csv\n",
      "37\n",
      "SO.csv\n",
      "38\n",
      "SPY.csv\n",
      "39\n",
      "SYT.csv\n",
      "40\n",
      "T.csv\n",
      "41\n",
      "TM.csv\n",
      "42\n",
      "TOT.csv\n",
      "43\n",
      "UNH.csv\n",
      "44\n",
      "UPS.csv\n",
      "45\n",
      "VALE.csv\n",
      "46\n",
      "VZ.csv\n",
      "47\n",
      "WFC.csv\n",
      "48\n",
      "WMT.csv\n",
      "49\n",
      "XOM.csv\n",
      "(2518, 50)\n"
     ]
    }
   ],
   "source": [
    "directory = 'price_long_50'\n",
    "filenames = os.listdir(directory)\n",
    "print(filenames)\n",
    "\n",
    "all_data = np.zeros((len(filenames),2518),dtype = np.float32)\n",
    "for i in range(len(filenames)):\n",
    "    filename = filenames[i]\n",
    "    print(i)\n",
    "    print(filename)\n",
    "  \n",
    "    data=pd.read_csv(directory+'/'+filename)\n",
    "    vars = ['Open']\n",
    "    data = data[vars]\n",
    "    data = np.array(data)\n",
    "    data = np.transpose(data)\n",
    "    data = data[0]\n",
    "    data = data[::-1]\n",
    "  \n",
    "    all_data[i] = data\n",
    "all_data=all_data.T\n",
    "print(all_data.shape)  \n",
    "#np.save('data',all_data)"
   ]
  },
  {
   "cell_type": "code",
   "execution_count": 3,
   "metadata": {},
   "outputs": [],
   "source": [
    "scaler = MinMaxScaler(feature_range=(0, 1))\n",
    "#data50=scaler.fit_transform(all_data)\n",
    "data0=scaler.fit_transform(all_data[:,0:1])"
   ]
  },
  {
   "cell_type": "code",
   "execution_count": 4,
   "metadata": {},
   "outputs": [],
   "source": [
    "def load_data(dataset, seq_len):\n",
    "    amount_of_stocks = dataset.shape[1] # 5\n",
    "    print(amount_of_stocks)\n",
    "    data = np.array(dataset)\n",
    "    sequence_length = seq_len + 1 # index starting from 0\n",
    "    result = []\n",
    "    \n",
    "    for index in range(len(data) - sequence_length): # maxmimum date = lastest date - sequence length\n",
    "        result.append(data[index: index + sequence_length]) # index : index + 22days\n",
    "    \n",
    "    result = np.array(result)\n",
    "    row = round(0.9 * result.shape[0]) # 90% split\n",
    "    train = result[:int(row), :] # 90% date, all features \n",
    "    \n",
    "    x_train = train[:, :-1] \n",
    "    y_train = train[:, -1][:,-1]\n",
    "    #y_train = train[:, -1]\n",
    "    \n",
    "    x_test = result[int(row):, :-1] \n",
    "    y_test = result[int(row):, -1][:,-1]\n",
    "    #y_test = result[int(row):, -1]\n",
    "    \n",
    "    x_train = np.reshape(x_train, (x_train.shape[0], x_train.shape[1], amount_of_stocks))\n",
    "    x_test = np.reshape(x_test, (x_test.shape[0], x_test.shape[1], amount_of_stocks))  \n",
    "\n",
    "    return [x_train, y_train, x_test, y_test]"
   ]
  },
  {
   "cell_type": "code",
   "execution_count": 5,
   "metadata": {},
   "outputs": [
    {
     "name": "stdout",
     "output_type": "stream",
     "text": [
      "1\n"
     ]
    }
   ],
   "source": [
    "look_back=3\n",
    "X_train, y_train, X_test, y_test = load_data(data0, look_back)"
   ]
  },
  {
   "cell_type": "code",
   "execution_count": 6,
   "metadata": {
    "scrolled": true
   },
   "outputs": [
    {
     "name": "stdout",
     "output_type": "stream",
     "text": [
      "((2263, 3, 1), (2263,))\n"
     ]
    }
   ],
   "source": [
    "#y_train=y_train.reshape(2263,50,1)\n",
    "print (X_train.shape, y_train.shape)"
   ]
  },
  {
   "cell_type": "code",
   "execution_count": null,
   "metadata": {},
   "outputs": [],
   "source": []
  },
  {
   "cell_type": "code",
   "execution_count": 7,
   "metadata": {},
   "outputs": [
    {
     "name": "stdout",
     "output_type": "stream",
     "text": [
      "Train on 2036 samples, validate on 227 samples\n",
      "Epoch 1/100\n",
      "2036/2036 [==============================] - 0s 125us/step - loss: 0.0560 - val_loss: 0.0330\n",
      "Epoch 2/100\n",
      "2036/2036 [==============================] - 0s 122us/step - loss: 0.0034 - val_loss: 0.0011\n",
      "Epoch 3/100\n",
      "2036/2036 [==============================] - 0s 121us/step - loss: 0.0017 - val_loss: 0.0014\n",
      "Epoch 4/100\n",
      "2036/2036 [==============================] - 0s 115us/step - loss: 0.0015 - val_loss: 5.9533e-04\n",
      "Epoch 5/100\n",
      "2036/2036 [==============================] - 0s 114us/step - loss: 0.0014 - val_loss: 7.2290e-04\n",
      "Epoch 6/100\n",
      "2036/2036 [==============================] - 0s 117us/step - loss: 0.0013 - val_loss: 6.2276e-04\n",
      "Epoch 7/100\n",
      "2036/2036 [==============================] - 0s 118us/step - loss: 0.0012 - val_loss: 5.6898e-04\n",
      "Epoch 8/100\n",
      "2036/2036 [==============================] - 0s 119us/step - loss: 0.0010 - val_loss: 5.2947e-04\n",
      "Epoch 9/100\n",
      "2036/2036 [==============================] - 0s 122us/step - loss: 0.0010 - val_loss: 8.9864e-04\n",
      "Epoch 10/100\n",
      "2036/2036 [==============================] - 0s 119us/step - loss: 0.0011 - val_loss: 5.2711e-04\n",
      "Epoch 11/100\n",
      "2036/2036 [==============================] - 0s 116us/step - loss: 9.9909e-04 - val_loss: 0.0015\n",
      "Epoch 12/100\n",
      "2036/2036 [==============================] - 0s 115us/step - loss: 9.0269e-04 - val_loss: 5.6068e-04\n",
      "Epoch 13/100\n",
      "2036/2036 [==============================] - 0s 128us/step - loss: 8.9324e-04 - val_loss: 5.1098e-04\n",
      "Epoch 14/100\n",
      "2036/2036 [==============================] - 0s 141us/step - loss: 8.4700e-04 - val_loss: 0.0010\n",
      "Epoch 15/100\n",
      "2036/2036 [==============================] - 0s 114us/step - loss: 8.1348e-04 - val_loss: 5.3733e-04\n",
      "Epoch 16/100\n",
      "2036/2036 [==============================] - 0s 121us/step - loss: 8.5010e-04 - val_loss: 6.2783e-04\n",
      "Epoch 17/100\n",
      "2036/2036 [==============================] - 0s 120us/step - loss: 8.0570e-04 - val_loss: 0.0016\n",
      "Epoch 18/100\n",
      "2036/2036 [==============================] - 0s 116us/step - loss: 7.6207e-04 - val_loss: 5.1332e-04\n",
      "Epoch 19/100\n",
      "2036/2036 [==============================] - 0s 114us/step - loss: 7.7166e-04 - val_loss: 5.2264e-04\n",
      "Epoch 20/100\n",
      "2036/2036 [==============================] - 0s 119us/step - loss: 7.4723e-04 - val_loss: 0.0010\n",
      "Epoch 21/100\n",
      "2036/2036 [==============================] - 0s 119us/step - loss: 7.8432e-04 - val_loss: 5.2562e-04\n",
      "Epoch 22/100\n",
      "2036/2036 [==============================] - 0s 114us/step - loss: 6.9295e-04 - val_loss: 5.1326e-04\n",
      "Epoch 23/100\n",
      "2036/2036 [==============================] - 0s 118us/step - loss: 7.8358e-04 - val_loss: 0.0015\n",
      "Epoch 24/100\n",
      "2036/2036 [==============================] - 0s 119us/step - loss: 7.3752e-04 - val_loss: 9.1333e-04\n",
      "Epoch 25/100\n",
      "2036/2036 [==============================] - 0s 135us/step - loss: 7.8587e-04 - val_loss: 0.0013\n",
      "Epoch 26/100\n",
      "2036/2036 [==============================] - 0s 133us/step - loss: 6.9655e-04 - val_loss: 6.4394e-04\n",
      "Epoch 27/100\n",
      "2036/2036 [==============================] - 0s 125us/step - loss: 7.3756e-04 - val_loss: 9.8615e-04\n",
      "Epoch 28/100\n",
      "2036/2036 [==============================] - 0s 119us/step - loss: 6.9938e-04 - val_loss: 0.0015\n",
      "Epoch 29/100\n",
      "2036/2036 [==============================] - 0s 122us/step - loss: 6.4624e-04 - val_loss: 8.1628e-04\n",
      "Epoch 30/100\n",
      "2036/2036 [==============================] - 0s 119us/step - loss: 6.5896e-04 - val_loss: 5.0306e-04\n",
      "Epoch 31/100\n",
      "2036/2036 [==============================] - 0s 119us/step - loss: 7.1634e-04 - val_loss: 0.0014\n",
      "Epoch 32/100\n",
      "2036/2036 [==============================] - 0s 116us/step - loss: 6.7717e-04 - val_loss: 5.9296e-04\n",
      "Epoch 33/100\n",
      "2036/2036 [==============================] - 0s 123us/step - loss: 6.8288e-04 - val_loss: 0.0012\n",
      "Epoch 34/100\n",
      "2036/2036 [==============================] - 0s 126us/step - loss: 6.6998e-04 - val_loss: 5.6750e-04\n",
      "Epoch 35/100\n",
      "2036/2036 [==============================] - 0s 122us/step - loss: 7.2843e-04 - val_loss: 5.7329e-04\n",
      "Epoch 36/100\n",
      "2036/2036 [==============================] - 0s 121us/step - loss: 7.7862e-04 - val_loss: 5.0200e-04\n",
      "Epoch 37/100\n",
      "2036/2036 [==============================] - 0s 116us/step - loss: 6.6436e-04 - val_loss: 0.0013\n",
      "Epoch 38/100\n",
      "2036/2036 [==============================] - 0s 115us/step - loss: 6.5455e-04 - val_loss: 0.0012\n",
      "Epoch 39/100\n",
      "2036/2036 [==============================] - 0s 123us/step - loss: 6.8292e-04 - val_loss: 7.9744e-04\n",
      "Epoch 40/100\n",
      "2036/2036 [==============================] - 0s 114us/step - loss: 6.9572e-04 - val_loss: 5.1702e-04\n",
      "Epoch 41/100\n",
      "2036/2036 [==============================] - 0s 116us/step - loss: 5.8417e-04 - val_loss: 6.7289e-04\n",
      "Epoch 42/100\n",
      "2036/2036 [==============================] - 0s 117us/step - loss: 6.8551e-04 - val_loss: 6.5674e-04\n",
      "Epoch 43/100\n",
      "2036/2036 [==============================] - 0s 119us/step - loss: 6.3104e-04 - val_loss: 5.1070e-04\n",
      "Epoch 44/100\n",
      "2036/2036 [==============================] - 0s 114us/step - loss: 7.2582e-04 - val_loss: 5.0542e-04\n",
      "Epoch 45/100\n",
      "2036/2036 [==============================] - 0s 111us/step - loss: 6.7936e-04 - val_loss: 7.5811e-04\n",
      "Epoch 46/100\n",
      "2036/2036 [==============================] - 0s 111us/step - loss: 6.9676e-04 - val_loss: 0.0012\n",
      "Epoch 47/100\n",
      "2036/2036 [==============================] - 0s 116us/step - loss: 6.9640e-04 - val_loss: 0.0022\n",
      "Epoch 48/100\n",
      "2036/2036 [==============================] - 0s 120us/step - loss: 6.3296e-04 - val_loss: 9.0703e-04\n",
      "Epoch 49/100\n",
      "2036/2036 [==============================] - 0s 111us/step - loss: 5.9738e-04 - val_loss: 0.0014\n",
      "Epoch 50/100\n",
      "2036/2036 [==============================] - 0s 119us/step - loss: 6.3390e-04 - val_loss: 5.8386e-04\n",
      "Epoch 51/100\n",
      "2036/2036 [==============================] - 0s 119us/step - loss: 6.3305e-04 - val_loss: 0.0016\n",
      "Epoch 52/100\n",
      "2036/2036 [==============================] - 0s 118us/step - loss: 6.4023e-04 - val_loss: 4.9049e-04\n",
      "Epoch 53/100\n",
      "2036/2036 [==============================] - 0s 118us/step - loss: 6.0102e-04 - val_loss: 6.9357e-04\n",
      "Epoch 54/100\n",
      "2036/2036 [==============================] - 0s 109us/step - loss: 6.3527e-04 - val_loss: 9.5273e-04\n",
      "Epoch 55/100\n",
      "2036/2036 [==============================] - 0s 119us/step - loss: 5.9013e-04 - val_loss: 4.8838e-04\n",
      "Epoch 56/100\n",
      "2036/2036 [==============================] - 0s 120us/step - loss: 6.6260e-04 - val_loss: 5.8343e-04\n",
      "Epoch 57/100\n",
      "2036/2036 [==============================] - 0s 120us/step - loss: 6.0862e-04 - val_loss: 6.6621e-04\n",
      "Epoch 58/100\n",
      "2036/2036 [==============================] - 0s 119us/step - loss: 5.5391e-04 - val_loss: 0.0013-\n",
      "Epoch 59/100\n",
      "2036/2036 [==============================] - 0s 119us/step - loss: 6.3114e-04 - val_loss: 0.0012\n",
      "Epoch 60/100\n",
      "2036/2036 [==============================] - 0s 108us/step - loss: 5.4525e-04 - val_loss: 5.7866e-04\n",
      "Epoch 61/100\n",
      "2036/2036 [==============================] - 0s 120us/step - loss: 5.7998e-04 - val_loss: 0.0013\n",
      "Epoch 62/100\n",
      "2036/2036 [==============================] - 0s 122us/step - loss: 5.9498e-04 - val_loss: 8.3720e-04\n",
      "Epoch 63/100\n",
      "2036/2036 [==============================] - 0s 111us/step - loss: 5.6029e-04 - val_loss: 0.0015\n",
      "Epoch 64/100\n",
      "2036/2036 [==============================] - 0s 115us/step - loss: 5.4267e-04 - val_loss: 5.5820e-04\n",
      "Epoch 65/100\n",
      "2036/2036 [==============================] - 0s 122us/step - loss: 5.1812e-04 - val_loss: 5.8123e-04\n",
      "Epoch 66/100\n",
      "2036/2036 [==============================] - 0s 120us/step - loss: 5.3165e-04 - val_loss: 0.0014\n",
      "Epoch 67/100\n",
      "2036/2036 [==============================] - 0s 110us/step - loss: 5.1460e-04 - val_loss: 0.0013\n",
      "Epoch 68/100\n",
      "2036/2036 [==============================] - 0s 109us/step - loss: 4.9823e-04 - val_loss: 8.7105e-04\n",
      "Epoch 69/100\n",
      "2036/2036 [==============================] - 0s 116us/step - loss: 5.0888e-04 - val_loss: 0.0032\n",
      "Epoch 70/100\n",
      "2036/2036 [==============================] - 0s 117us/step - loss: 5.6915e-04 - val_loss: 7.0093e-04\n",
      "Epoch 71/100\n",
      "2036/2036 [==============================] - 0s 112us/step - loss: 5.0099e-04 - val_loss: 0.0019\n",
      "Epoch 72/100\n",
      "2036/2036 [==============================] - 0s 122us/step - loss: 4.7958e-04 - val_loss: 7.4575e-04\n",
      "Epoch 73/100\n",
      "2036/2036 [==============================] - 0s 123us/step - loss: 4.9111e-04 - val_loss: 8.3752e-04\n"
     ]
    },
    {
     "name": "stdout",
     "output_type": "stream",
     "text": [
      "Epoch 74/100\n",
      "2036/2036 [==============================] - 0s 118us/step - loss: 4.8471e-04 - val_loss: 8.8866e-04\n",
      "Epoch 75/100\n",
      "2036/2036 [==============================] - 0s 108us/step - loss: 4.9561e-04 - val_loss: 6.8146e-04\n",
      "Epoch 76/100\n",
      "2036/2036 [==============================] - 0s 113us/step - loss: 4.3682e-04 - val_loss: 0.0019\n",
      "Epoch 77/100\n",
      "2036/2036 [==============================] - 0s 116us/step - loss: 5.0014e-04 - val_loss: 0.0024\n",
      "Epoch 78/100\n",
      "2036/2036 [==============================] - 0s 113us/step - loss: 4.7099e-04 - val_loss: 6.2045e-04\n",
      "Epoch 79/100\n",
      "2036/2036 [==============================] - 0s 143us/step - loss: 4.6958e-04 - val_loss: 4.8459e-04\n",
      "Epoch 80/100\n",
      "2036/2036 [==============================] - 0s 121us/step - loss: 4.7142e-04 - val_loss: 8.4017e-04\n",
      "Epoch 81/100\n",
      "2036/2036 [==============================] - 0s 119us/step - loss: 4.5493e-04 - val_loss: 0.0014\n",
      "Epoch 82/100\n",
      "2036/2036 [==============================] - 0s 114us/step - loss: 4.6056e-04 - val_loss: 7.4976e-04\n",
      "Epoch 83/100\n",
      "2036/2036 [==============================] - 0s 119us/step - loss: 4.7573e-04 - val_loss: 5.1429e-04\n",
      "Epoch 84/100\n",
      "2036/2036 [==============================] - 0s 121us/step - loss: 4.3842e-04 - val_loss: 6.8386e-04\n",
      "Epoch 85/100\n",
      "2036/2036 [==============================] - 0s 119us/step - loss: 4.8262e-04 - val_loss: 9.4519e-04\n",
      "Epoch 86/100\n",
      "2036/2036 [==============================] - 0s 123us/step - loss: 4.3881e-04 - val_loss: 0.0018\n",
      "Epoch 87/100\n",
      "2036/2036 [==============================] - 0s 122us/step - loss: 4.2391e-04 - val_loss: 7.6489e-04\n",
      "Epoch 88/100\n",
      "2036/2036 [==============================] - 0s 116us/step - loss: 4.4031e-04 - val_loss: 0.0021\n",
      "Epoch 89/100\n",
      "2036/2036 [==============================] - 0s 122us/step - loss: 4.5946e-04 - val_loss: 4.9836e-04\n",
      "Epoch 90/100\n",
      "2036/2036 [==============================] - 0s 127us/step - loss: 4.6511e-04 - val_loss: 6.6829e-04\n",
      "Epoch 91/100\n",
      "2036/2036 [==============================] - 0s 122us/step - loss: 4.1342e-04 - val_loss: 5.1302e-04\n",
      "Epoch 92/100\n",
      "2036/2036 [==============================] - 0s 122us/step - loss: 4.4379e-04 - val_loss: 7.0488e-04\n",
      "Epoch 93/100\n",
      "2036/2036 [==============================] - 0s 123us/step - loss: 4.4313e-04 - val_loss: 0.0011\n",
      "Epoch 94/100\n",
      "2036/2036 [==============================] - 0s 119us/step - loss: 4.0993e-04 - val_loss: 0.0010\n",
      "Epoch 95/100\n",
      "2036/2036 [==============================] - 0s 120us/step - loss: 4.1725e-04 - val_loss: 0.0012\n",
      "Epoch 96/100\n",
      "2036/2036 [==============================] - 0s 146us/step - loss: 4.1732e-04 - val_loss: 8.2226e-04\n",
      "Epoch 97/100\n",
      "2036/2036 [==============================] - 0s 120us/step - loss: 4.0886e-04 - val_loss: 5.4948e-04\n",
      "Epoch 98/100\n",
      "2036/2036 [==============================] - 0s 120us/step - loss: 4.3490e-04 - val_loss: 0.0016\n",
      "Epoch 99/100\n",
      "2036/2036 [==============================] - 0s 124us/step - loss: 3.9179e-04 - val_loss: 8.8530e-04\n",
      "Epoch 100/100\n",
      "2036/2036 [==============================] - 0s 121us/step - loss: 4.3701e-04 - val_loss: 0.0011\n"
     ]
    },
    {
     "data": {
      "text/plain": [
       "<keras.callbacks.History at 0x1c1a8e3090>"
      ]
     },
     "execution_count": 7,
     "metadata": {},
     "output_type": "execute_result"
    }
   ],
   "source": [
    "model = Sequential()\n",
    "model.add(LSTM(32, input_shape=(look_back,data0.shape[1]),return_sequences=True))\n",
    "model.add(Dropout(0.2))\n",
    "\n",
    "model.add(LSTM(32, input_shape=(look_back,data0.shape[1]), return_sequences=False))\n",
    "model.add(Dropout(0.2))\n",
    "\n",
    "model.add(Dense(32,kernel_initializer=\"uniform\",activation='relu')) \n",
    "\n",
    "model.add(Dense(1))\n",
    "model.compile(loss='mean_squared_error', optimizer='adam')\n",
    "model.fit(X_train,y_train,batch_size=32,epochs=100,validation_split=0.1,verbose=1)"
   ]
  },
  {
   "cell_type": "code",
   "execution_count": 8,
   "metadata": {},
   "outputs": [],
   "source": [
    "trainPredict = model.predict(X_train)\n",
    "testPredict = model.predict(X_test)\n"
   ]
  },
  {
   "cell_type": "code",
   "execution_count": 119,
   "metadata": {},
   "outputs": [
    {
     "name": "stdout",
     "output_type": "stream",
     "text": [
      "Train Score: 0.0004551323970583882 MSE (0.021333832216889403 RMSE)\n",
      "Test Score: 0.0010187857008847106 MSE (0.03191842259393015 RMSE)\n"
     ]
    }
   ],
   "source": [
    "trainScore = model.evaluate(X_train, y_train, verbose=0)\n",
    "print('Train Score: {} MSE ({} RMSE)'.format(trainScore, math.sqrt(trainScore)))\n",
    "\n",
    "testScore = model.evaluate(X_test, y_test, verbose=0)\n",
    "print('Test Score: {} MSE ({} RMSE)'.format(testScore, math.sqrt(testScore)))"
   ]
  },
  {
   "cell_type": "code",
   "execution_count": 14,
   "metadata": {},
   "outputs": [
    {
     "data": {
      "text/plain": [
       "(2263, 1)"
      ]
     },
     "execution_count": 14,
     "metadata": {},
     "output_type": "execute_result"
    }
   ],
   "source": [
    "trainPredict.shape"
   ]
  },
  {
   "cell_type": "code",
   "execution_count": 15,
   "metadata": {},
   "outputs": [],
   "source": [
    "trainPredict = scaler.inverse_transform(trainPredict)\n",
    "trainY = scaler.inverse_transform([y_train])\n",
    "testPredict = scaler.inverse_transform(testPredict)\n",
    "testY = scaler.inverse_transform([y_test])"
   ]
  },
  {
   "cell_type": "code",
   "execution_count": 121,
   "metadata": {},
   "outputs": [
    {
     "name": "stdout",
     "output_type": "stream",
     "text": [
      "Train Score: 92.41 RMSE\n",
      "Test Score: 130.89 RMSE\n"
     ]
    }
   ],
   "source": [
    "trainScore = math.sqrt(mean_squared_error(y_train, trainPredict[:,0]))\n",
    "print('Train Score: %.2f RMSE' % (trainScore))\n",
    "testScore = math.sqrt(mean_squared_error(y_test, testPredict[:,0]))\n",
    "print('Test Score: %.2f RMSE' % (testScore))"
   ]
  },
  {
   "cell_type": "code",
   "execution_count": 11,
   "metadata": {},
   "outputs": [],
   "source": [
    "trainPredictPlot = np.empty_like(data0)\n",
    "trainPredictPlot[:, :] = np.nan\n",
    "trainPredictPlot[look_back:len(trainPredict)+look_back, :] = trainPredict"
   ]
  },
  {
   "cell_type": "code",
   "execution_count": 12,
   "metadata": {},
   "outputs": [],
   "source": [
    "testPredictPlot = np.empty_like(data0)\n",
    "testPredictPlot[:, :] = np.nan\n",
    "testPredictPlot[len(trainPredict)+look_back:len(data0)-1, :] = testPredict\n"
   ]
  },
  {
   "cell_type": "code",
   "execution_count": 23,
   "metadata": {},
   "outputs": [
    {
     "data": {
      "image/png": "[encoded data removed]",
      "text/plain": [
       "<matplotlib.figure.Figure at 0x1c1c4e7ad0>"
      ]
     },
     "metadata": {},
     "output_type": "display_data"
    }
   ],
   "source": [
    "# plot baseline and predictions\n",
    "plt.plot(scaler.inverse_transform(data0))\n",
    "plt.plot(trainPredictPlot)\n",
    "plt.plot(testPredictPlot)\n",
    "plt.show()\n",
    "\n"
   ]
  },
  {
   "cell_type": "code",
   "execution_count": 26,
   "metadata": {},
   "outputs": [
    {
     "data": {
      "image/png": "[encoded data removed]",
      "text/plain": [
       "<matplotlib.figure.Figure at 0x1c1cd65950>"
      ]
     },
     "metadata": {},
     "output_type": "display_data"
    },
    {
     "data": {
      "image/png": "[encoded data removed]",
      "text/plain": [
       "<matplotlib.figure.Figure at 0x1c1cfdcfd0>"
      ]
     },
     "metadata": {},
     "output_type": "display_data"
    }
   ],
   "source": [
    "# plot baseline and predictions\n",
    "plt.plot(scaler.inverse_transform(data0)[100:200])\n",
    "plt.plot(trainPredictPlot[100:200])\n",
    "#plt.plot(testPredictPlot)\n",
    "plt.show()\n",
    "# plot baseline and predictions\n",
    "plt.figure(figsize=(10,7)) \n",
    "l1,=plt.plot(scaler.inverse_transform(data0)[-200:])\n",
    "#plt.plot(trainPredictPlot[100:200])\n",
    "l2,=plt.plot(testPredictPlot[-200:])\n",
    "plt.legend(handles = [l1, l2,], labels = ['Reality', 'Prediction'], loc = 'best')\n",
    "plt.show()"
   ]
  },
  {
   "cell_type": "code",
   "execution_count": null,
   "metadata": {},
   "outputs": [],
   "source": []
  }
 ],
 "metadata": {
  "kernelspec": {
   "display_name": "Python 2",
   "language": "python",
   "name": "python2"
  },
  "language_info": {
   "codemirror_mode": {
    "name": "ipython",
    "version": 2
   },
   "file_extension": ".py",
   "mimetype": "text/x-python",
   "name": "python",
   "nbconvert_exporter": "python",
   "pygments_lexer": "ipython2",
   "version": "2.7.13"
  }
 },
 "nbformat": 4,
 "nbformat_minor": 2
}
